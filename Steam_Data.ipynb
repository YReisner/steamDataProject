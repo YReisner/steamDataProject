{
  "nbformat": 4,
  "nbformat_minor": 0,
  "metadata": {
    "colab": {
      "provenance": [],
      "toc_visible": true,
      "authorship_tag": "ABX9TyNgJK+09oBNZaVL1K6sk8XD",
      "include_colab_link": true
    },
    "kernelspec": {
      "name": "python3",
      "display_name": "Python 3"
    },
    "language_info": {
      "name": "python"
    }
  },
  "cells": [
    {
      "cell_type": "markdown",
      "metadata": {
        "id": "view-in-github",
        "colab_type": "text"
      },
      "source": [
        "<a href=\"https://colab.research.google.com/github/YReisner/steamDataProject/blob/main/Steam_Data.ipynb\" target=\"_parent\"><img src=\"https://colab.research.google.com/assets/colab-badge.svg\" alt=\"Open In Colab\"/></a>"
      ]
    },
    {
      "cell_type": "code",
      "execution_count": 1,
      "metadata": {
        "id": "gqESdPRpBr3x"
      },
      "outputs": [],
      "source": [
        "# standard library imports\n",
        "import csv\n",
        "import datetime as dt\n",
        "import json\n",
        "import os\n",
        "import statistics\n",
        "import time\n",
        "\n",
        "# third-party imports\n",
        "import numpy as np\n",
        "import pandas as pd\n",
        "import requests\n",
        "\n",
        "# customisations - ensure tables show all columns\n",
        "pd.set_option(\"max_columns\", 100)"
      ]
    }
  ]
}